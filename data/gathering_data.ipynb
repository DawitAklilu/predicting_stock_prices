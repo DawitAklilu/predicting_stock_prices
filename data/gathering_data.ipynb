{
 "cells": [
  {
   "cell_type": "markdown",
   "id": "6e7dbd7e-ce5e-4055-a812-3b8bf6fcda82",
   "metadata": {},
   "source": [
    "# Predicting Stock Prices"
   ]
  },
  {
   "cell_type": "code",
   "execution_count": 3,
   "id": "1f58eeb4-d4fd-4612-a4db-c98c1c7fcbba",
   "metadata": {},
   "outputs": [],
   "source": [
    "# Han"
   ]
  },
  {
   "cell_type": "markdown",
   "id": "45c0b09a-fcfc-4d0f-b6a8-05ebf197c070",
   "metadata": {},
   "source": [
    "## Gathering Data"
   ]
  },
  {
   "cell_type": "code",
   "execution_count": null,
   "id": "fa2437b2-e44e-48f5-ac01-601f20be64f3",
   "metadata": {},
   "outputs": [],
   "source": [
    "!pip install pandas_datareader"
   ]
  },
  {
   "cell_type": "code",
   "execution_count": 5,
   "id": "5d662e0b-65b5-4429-b2fc-e6d488228589",
   "metadata": {},
   "outputs": [],
   "source": [
    "# 3rd party\n",
    "from pandas_datareader import data as data_reader\n",
    "import pandas as pd\n",
    "\n",
    "# standard library\n",
    "import datetime"
   ]
  },
  {
   "cell_type": "code",
   "execution_count": 6,
   "id": "5a730152-d8fb-40d4-9e05-f6dea9b2b43c",
   "metadata": {},
   "outputs": [],
   "source": [
    "tickers = ['AAPL', 'AMZN', 'FB', 'GOOG', 'MSFT']\n",
    "start_date = datetime.date(1900, 1, 1)\n",
    "end_date = datetime.date.today()\n",
    "for ticker in tickers:\n",
    "    data = data_reader.DataReader(ticker, 'stooq', start_date, end_date)\n",
    "    data.to_csv(f'{ticker}.csv')\n",
    "    "
   ]
  }
 ],
 "metadata": {
  "kernelspec": {
   "display_name": "Python 3 (ipykernel)",
   "language": "python",
   "name": "python3"
  },
  "language_info": {
   "codemirror_mode": {
    "name": "ipython",
    "version": 3
   },
   "file_extension": ".py",
   "mimetype": "text/x-python",
   "name": "python",
   "nbconvert_exporter": "python",
   "pygments_lexer": "ipython3",
   "version": "3.10.4"
  }
 },
 "nbformat": 4,
 "nbformat_minor": 5
}
