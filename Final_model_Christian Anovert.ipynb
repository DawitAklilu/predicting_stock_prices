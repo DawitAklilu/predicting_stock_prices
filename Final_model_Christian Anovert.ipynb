{
 "cells": [
  {
   "cell_type": "code",
   "execution_count": 45,
   "id": "c6d33c4e",
   "metadata": {},
   "outputs": [
    {
     "name": "stdout",
     "output_type": "stream",
     "text": [
      "The autoreload extension is already loaded. To reload it, use:\n",
      "  %reload_ext autoreload\n"
     ]
    },
    {
     "data": {
      "text/html": [
       "<div>\n",
       "<style scoped>\n",
       "    .dataframe tbody tr th:only-of-type {\n",
       "        vertical-align: middle;\n",
       "    }\n",
       "\n",
       "    .dataframe tbody tr th {\n",
       "        vertical-align: top;\n",
       "    }\n",
       "\n",
       "    .dataframe thead th {\n",
       "        text-align: right;\n",
       "    }\n",
       "</style>\n",
       "<table border=\"1\" class=\"dataframe\">\n",
       "  <thead>\n",
       "    <tr style=\"text-align: right;\">\n",
       "      <th></th>\n",
       "      <th>Date</th>\n",
       "      <th>Open</th>\n",
       "      <th>High</th>\n",
       "      <th>Low</th>\n",
       "      <th>Close</th>\n",
       "      <th>Volume</th>\n",
       "    </tr>\n",
       "  </thead>\n",
       "  <tbody>\n",
       "    <tr>\n",
       "      <th>0</th>\n",
       "      <td>1984-09-07</td>\n",
       "      <td>0.100763</td>\n",
       "      <td>0.101999</td>\n",
       "      <td>0.099546</td>\n",
       "      <td>0.100763</td>\n",
       "      <td>9.767604e+07</td>\n",
       "    </tr>\n",
       "    <tr>\n",
       "      <th>1</th>\n",
       "      <td>1984-09-10</td>\n",
       "      <td>0.100763</td>\n",
       "      <td>0.101071</td>\n",
       "      <td>0.098340</td>\n",
       "      <td>0.100165</td>\n",
       "      <td>7.581254e+07</td>\n",
       "    </tr>\n",
       "    <tr>\n",
       "      <th>2</th>\n",
       "      <td>1984-09-11</td>\n",
       "      <td>0.101071</td>\n",
       "      <td>0.103814</td>\n",
       "      <td>0.101071</td>\n",
       "      <td>0.101999</td>\n",
       "      <td>1.787705e+08</td>\n",
       "    </tr>\n",
       "    <tr>\n",
       "      <th>3</th>\n",
       "      <td>1984-09-12</td>\n",
       "      <td>0.101999</td>\n",
       "      <td>0.102597</td>\n",
       "      <td>0.098928</td>\n",
       "      <td>0.098928</td>\n",
       "      <td>1.561713e+08</td>\n",
       "    </tr>\n",
       "    <tr>\n",
       "      <th>4</th>\n",
       "      <td>1984-09-13</td>\n",
       "      <td>0.104432</td>\n",
       "      <td>0.104730</td>\n",
       "      <td>0.104432</td>\n",
       "      <td>0.104432</td>\n",
       "      <td>2.432310e+08</td>\n",
       "    </tr>\n",
       "    <tr>\n",
       "      <th>...</th>\n",
       "      <td>...</td>\n",
       "      <td>...</td>\n",
       "      <td>...</td>\n",
       "      <td>...</td>\n",
       "      <td>...</td>\n",
       "      <td>...</td>\n",
       "    </tr>\n",
       "    <tr>\n",
       "      <th>9710</th>\n",
       "      <td>2023-03-20</td>\n",
       "      <td>155.070000</td>\n",
       "      <td>157.820000</td>\n",
       "      <td>154.150000</td>\n",
       "      <td>157.400000</td>\n",
       "      <td>7.364142e+07</td>\n",
       "    </tr>\n",
       "    <tr>\n",
       "      <th>9711</th>\n",
       "      <td>2023-03-21</td>\n",
       "      <td>157.320000</td>\n",
       "      <td>159.400000</td>\n",
       "      <td>156.540000</td>\n",
       "      <td>159.280000</td>\n",
       "      <td>7.393828e+07</td>\n",
       "    </tr>\n",
       "    <tr>\n",
       "      <th>9712</th>\n",
       "      <td>2023-03-22</td>\n",
       "      <td>159.300000</td>\n",
       "      <td>162.140000</td>\n",
       "      <td>157.810000</td>\n",
       "      <td>157.830000</td>\n",
       "      <td>7.570181e+07</td>\n",
       "    </tr>\n",
       "    <tr>\n",
       "      <th>9713</th>\n",
       "      <td>2023-03-23</td>\n",
       "      <td>158.830000</td>\n",
       "      <td>161.550100</td>\n",
       "      <td>157.680000</td>\n",
       "      <td>158.930000</td>\n",
       "      <td>6.762206e+07</td>\n",
       "    </tr>\n",
       "    <tr>\n",
       "      <th>9714</th>\n",
       "      <td>2023-03-24</td>\n",
       "      <td>158.860000</td>\n",
       "      <td>160.340000</td>\n",
       "      <td>157.850000</td>\n",
       "      <td>160.250000</td>\n",
       "      <td>5.925634e+07</td>\n",
       "    </tr>\n",
       "  </tbody>\n",
       "</table>\n",
       "<p>9715 rows × 6 columns</p>\n",
       "</div>"
      ],
      "text/plain": [
       "            Date        Open        High         Low       Close        Volume\n",
       "0     1984-09-07    0.100763    0.101999    0.099546    0.100763  9.767604e+07\n",
       "1     1984-09-10    0.100763    0.101071    0.098340    0.100165  7.581254e+07\n",
       "2     1984-09-11    0.101071    0.103814    0.101071    0.101999  1.787705e+08\n",
       "3     1984-09-12    0.101999    0.102597    0.098928    0.098928  1.561713e+08\n",
       "4     1984-09-13    0.104432    0.104730    0.104432    0.104432  2.432310e+08\n",
       "...          ...         ...         ...         ...         ...           ...\n",
       "9710  2023-03-20  155.070000  157.820000  154.150000  157.400000  7.364142e+07\n",
       "9711  2023-03-21  157.320000  159.400000  156.540000  159.280000  7.393828e+07\n",
       "9712  2023-03-22  159.300000  162.140000  157.810000  157.830000  7.570181e+07\n",
       "9713  2023-03-23  158.830000  161.550100  157.680000  158.930000  6.762206e+07\n",
       "9714  2023-03-24  158.860000  160.340000  157.850000  160.250000  5.925634e+07\n",
       "\n",
       "[9715 rows x 6 columns]"
      ]
     },
     "execution_count": 45,
     "metadata": {},
     "output_type": "execute_result"
    }
   ],
   "source": [
    "import numpy as np\n",
    "import pandas as pd\n",
    "from sklearn.tree import DecisionTreeRegressor\n",
    "from sklearn.linear_model import LinearRegression\n",
    "from sklearn.model_selection import train_test_split\n",
    "import matplotlib.pyplot as plt\n",
    "from sklearn.linear_model import LogisticRegression\n",
    "%load_ext autoreload\n",
    "%autoreload 2\n",
    "import data\n",
    "\n",
    "\n",
    "apple_df = pd.read_csv('AAPL_reversed.csv')\n",
    "\n",
    "\"\"\"\n",
    "New Question: Can we predict to see what the direction will the prices go the next day\n",
    "\"\"\"\n",
    "apple_df"
   ]
  },
  {
   "cell_type": "code",
   "execution_count": 46,
   "id": "70ea4e68",
   "metadata": {},
   "outputs": [],
   "source": [
    "\n",
    "#apple_df[\"Close\"].iloc[0]\n",
    "apple_df[\"Tomorrow\"] = apple_df[\"Close\"].shift(-1)\n",
    "apple_df[\"Target\"] = (apple_df[\"Tomorrow\"] > apple_df[\"Close\"]).astype(int)\n",
    "apple_df = apple_df.loc[\"1990-01-01\":].copy()\n",
    "    \n"
   ]
  },
  {
   "cell_type": "code",
   "execution_count": 49,
   "id": "c08d1fb7",
   "metadata": {},
   "outputs": [],
   "source": [
    "\"\"\"\n",
    "Creating the models through functions that way I can put in different amounts of days that will be used in the logistic model to\\n\n",
    "see if the amount of days used to train and test will determine if the model will give better accuracies.\n",
    "\n",
    "\"\"\"\n",
    "def log_model(apple_df,time):##Function for making logistic predictions with only one feature\n",
    "    apple_df = apple_df.reset_index(drop = True)\n",
    "    apple_df = apple_df.iloc[-time:]\n",
    "    apple_df = apple_df.dropna()\n",
    "    x = apple_df[\"Close\"]\n",
    "    y = apple_df[\"Target\"]\n",
    "\n",
    "    x_train,x_test,y_train,y_test = train_test_split(x,y,test_size = .5,shuffle = False,stratify = None)\n",
    "    \n",
    "    x_train = np.array(x_train)\n",
    "    x_train = np.reshape(x_train,(-1,1))\n",
    "\n",
    "    clf = LogisticRegression()\n",
    "    clf.fit(x_train,y_train)\n",
    "    x_test = np.array(x_test)\n",
    "    x_test = np.reshape(x_test,(-1,1))\n",
    "    y_pred = clf.predict(x_test)\n",
    "    y_test = np.array(y_test)\n",
    "    \n",
    "    pred_score = 0\n",
    "    for i in range(len(y_pred)):\n",
    "        val_pred = y_pred[i]\n",
    "        val_true = y_test[i]\n",
    "        if val_pred == val_true:\n",
    "            pred_score += 1\n",
    "\n",
    "    return pred_score/len(y_pred)\n",
    "\n",
    "\n",
    "def log_model_two(apple_df,time):##Function for making logistic predictions with more than one function\n",
    "    apple_df = apple_df.reset_index(drop = True)\n",
    "    apple_df = apple_df.iloc[-time:]\n",
    "    apple_df = apple_df.dropna()\n",
    "    x = apple_df.drop([\"Date\",\"Tomorrow\",\"Volume\",\"Target\"],axis = 1)\n",
    "    y = apple_df[\"Target\"]\n",
    "\n",
    "    x_train,x_test,y_train,y_test = train_test_split(x,y,test_size = .5,shuffle = False,stratify = None)\n",
    "   \n",
    "\n",
    "    clf = LogisticRegression()\n",
    "    clf.fit(x_train,y_train)\n",
    "\n",
    "    y_pred = clf.predict(x_test)\n",
    "    y_test = np.array(y_test)\n",
    "    \n",
    "    pred_score = 0\n",
    "    for i in range(len(y_pred)):\n",
    "        val_pred = y_pred[i]\n",
    "        val_true = y_test[i]\n",
    "        if val_pred == val_true:\n",
    "            pred_score += 1\n",
    "\n",
    "    return pred_score/len(y_pred)\n",
    "\n"
   ]
  },
  {
   "cell_type": "code",
   "execution_count": null,
   "id": "bbb5dd74",
   "metadata": {},
   "outputs": [],
   "source": []
  },
  {
   "cell_type": "code",
   "execution_count": 50,
   "id": "1c74123e",
   "metadata": {},
   "outputs": [
    {
     "name": "stdout",
     "output_type": "stream",
     "text": [
      "The average accuracy for the model with one feature is 0.46036770961022494\n"
     ]
    },
    {
     "data": {
      "image/png": "[encoded data removed]",
      "text/plain": [
       "<Figure size 432x288 with 1 Axes>"
      ]
     },
     "metadata": {
      "needs_background": "light"
     },
     "output_type": "display_data"
    }
   ],
   "source": [
    "list_one_feature = []\n",
    "for i in range(10,100):\n",
    "    time = i\n",
    "    plt.xlabel(\"Days used in past to predict future\")\n",
    "    plt.ylabel(\"Accuracy\")\n",
    "    plt.title(\"Log model with one feature (Close)\")\n",
    "    plt.scatter(i,log_model(apple_df,time))\n",
    "    list_one_feature.append(log_model(apple_df,time))\n",
    "\n",
    "print(f\"The average accuracy for the model with one feature is {np.mean(list_one_feature)}\")"
   ]
  },
  {
   "cell_type": "code",
   "execution_count": 51,
   "id": "76a9eb1f",
   "metadata": {},
   "outputs": [
    {
     "name": "stdout",
     "output_type": "stream",
     "text": [
      "The average accuracy for the model with many features is 0.4411007376294077\n"
     ]
    },
    {
     "data": {
      "image/png": "[encoded data removed]",
      "text/plain": [
       "<Figure size 432x288 with 1 Axes>"
      ]
     },
     "metadata": {
      "needs_background": "light"
     },
     "output_type": "display_data"
    }
   ],
   "source": [
    "list_many_feature = []\n",
    "for i in range(10,100):\n",
    "    time = i\n",
    "    plt.scatter(i,log_model_two(apple_df,time))\n",
    "    plt.xlabel(\"Days used in past to predict future\")\n",
    "    plt.ylabel(\"Accuracy\")\n",
    "    plt.title(\"Log model with many features (Close,Open,High,Low)\")\n",
    "    list_many_feature.append(log_model_two(apple_df,time))\n",
    "\n",
    "\n",
    "print(f\"The average accuracy for the model with many features is {np.mean(list_many_feature)}\")"
   ]
  },
  {
   "cell_type": "code",
   "execution_count": 21,
   "id": "b2b0f42b",
   "metadata": {},
   "outputs": [],
   "source": [
    "one_feature = np.mean(list_one_feature)\n",
    "many_features = np.mean(list_many_feature)"
   ]
  },
  {
   "cell_type": "code",
   "execution_count": null,
   "id": "bb9e7e38",
   "metadata": {},
   "outputs": [],
   "source": []
  },
  {
   "cell_type": "code",
   "execution_count": 132,
   "id": "f5fdd530",
   "metadata": {},
   "outputs": [],
   "source": [
    "\n",
    "\n"
   ]
  },
  {
   "cell_type": "code",
   "execution_count": null,
   "id": "2ee91d4d",
   "metadata": {},
   "outputs": [],
   "source": []
  },
  {
   "cell_type": "code",
   "execution_count": null,
   "id": "5c49bdc7",
   "metadata": {},
   "outputs": [],
   "source": [
    "\n"
   ]
  },
  {
   "cell_type": "code",
   "execution_count": null,
   "id": "5a67c8cc",
   "metadata": {},
   "outputs": [],
   "source": []
  },
  {
   "cell_type": "code",
   "execution_count": null,
   "id": "18a4abc0",
   "metadata": {},
   "outputs": [],
   "source": []
  }
 ],
 "metadata": {
  "kernelspec": {
   "display_name": "Python 3",
   "language": "python",
   "name": "python3"
  },
  "language_info": {
   "codemirror_mode": {
    "name": "ipython",
    "version": 3
   },
   "file_extension": ".py",
   "mimetype": "text/x-python",
   "name": "python",
   "nbconvert_exporter": "python",
   "pygments_lexer": "ipython3",
   "version": "3.8.8"
  }
 },
 "nbformat": 4,
 "nbformat_minor": 5
}
